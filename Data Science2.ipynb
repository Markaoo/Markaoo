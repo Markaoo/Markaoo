{
  "nbformat": 4,
  "nbformat_minor": 0,
  "metadata": {
    "colab": {
      "provenance": [],
      "authorship_tag": "ABX9TyNbq55knDtlkbehgWvcbWDh",
      "include_colab_link": true
    },
    "kernelspec": {
      "name": "python3",
      "display_name": "Python 3"
    },
    "language_info": {
      "name": "python"
    }
  },
  "cells": [
    {
      "cell_type": "markdown",
      "metadata": {
        "id": "view-in-github",
        "colab_type": "text"
      },
      "source": [
        "<a href=\"https://colab.research.google.com/github/Markaoo/Markaoo/blob/main/Data%20Science2.ipynb\" target=\"_parent\"><img src=\"https://colab.research.google.com/assets/colab-badge.svg\" alt=\"Open In Colab\"/></a>"
      ]
    },
    {
      "cell_type": "code",
      "execution_count": null,
      "metadata": {
        "colab": {
          "base_uri": "https://localhost:8080/"
        },
        "id": "6fdvk5HHXf0B",
        "outputId": "408ecfeb-d6e7-401b-edb0-3bae0c7bba04"
      },
      "outputs": [
        {
          "output_type": "stream",
          "name": "stdout",
          "text": [
            "O tamanho da lista corresponde a 17, o maior valor é o 99 e o menor é o 11.\n",
            "A soma dos elementos da lista corresponde a 743.\n"
          ]
        }
      ],
      "source": [
        "###-A leitura do tamanho da lista -A leitura do maior e menor valor -A soma dos valores da lista###\n",
        "lista = [16, 14, 63, 65, 17, 99, 70, 11, 20, 48, 79, 32, 17, 89, 12, 25, 66]\n",
        "tamanho = len(lista)\n",
        "maior = max(lista)\n",
        "menor = min(lista)\n",
        "soma = sum(lista)\n",
        "print(f'''O tamanho da lista corresponde a {tamanho}, o maior valor é o {maior} e o menor é o {menor}.\n",
        "A soma dos elementos da lista corresponde a {soma}.''')\n"
      ]
    },
    {
      "cell_type": "code",
      "source": [
        "#Escreva uma função que gere a tabuada de um número inteiro de 1 a 10, de acordo com a escolha da pessoa usuária.\n",
        "def tabuada(a):\n",
        "  cont = 1\n",
        "  while cont <= 10:\n",
        "    print(f'{a} x {cont} = {cont * a}')\n",
        "    cont += 1\n",
        "numero = int(input('Digite um número que lhe mostrarei a tabuada: '))\n",
        "tabuada(numero)"
      ],
      "metadata": {
        "colab": {
          "base_uri": "https://localhost:8080/"
        },
        "id": "t-vKGjliFU-D",
        "outputId": "73ce0be0-8f10-487b-ca09-d30ed13ee62f"
      },
      "execution_count": null,
      "outputs": [
        {
          "output_type": "stream",
          "name": "stdout",
          "text": [
            "Digite um número que lhe mostrarei a tabuada: 10\n",
            "10 x 1 = 10\n",
            "10 x 2 = 20\n",
            "10 x 3 = 30\n",
            "10 x 4 = 40\n",
            "10 x 5 = 50\n",
            "10 x 6 = 60\n",
            "10 x 7 = 70\n",
            "10 x 8 = 80\n",
            "10 x 9 = 90\n",
            "10 x 10 = 100\n"
          ]
        }
      ]
    },
    {
      "cell_type": "code",
      "source": [
        "#Escreva uma função que gere a tabuada de um número inteiro de 1 a 10, de acordo com a escolha da pessoa usuária. Agora usarei lambda\n",
        "lista = [1, 2, 3, 4, 5, 6, 7, 8, 9, 10]\n",
        "numero = int(input('Digite um número: '))\n",
        "\n",
        "tabuada = list((map(lambda x: (x * numero), lista)))\n",
        "for _ in range(len(lista)):\n",
        "  print(f'{numero} x {lista[_]} = {tabuada[_]}')\n",
        "\n",
        "\n"
      ],
      "metadata": {
        "colab": {
          "base_uri": "https://localhost:8080/"
        },
        "id": "N-2JtewYH3V1",
        "outputId": "42c56399-466b-4cbb-a487-4ad5daed56c5"
      },
      "execution_count": null,
      "outputs": [
        {
          "output_type": "stream",
          "name": "stdout",
          "text": [
            "Digite um número: 5\n",
            "5 x 1 = 5\n",
            "5 x 2 = 10\n",
            "5 x 3 = 15\n",
            "5 x 4 = 20\n",
            "5 x 5 = 25\n",
            "5 x 6 = 30\n",
            "5 x 7 = 35\n",
            "5 x 8 = 40\n",
            "5 x 9 = 45\n",
            "5 x 10 = 50\n"
          ]
        }
      ]
    },
    {
      "cell_type": "code",
      "source": [
        "#Crie a função que leia a lista abaixo e retorne uma nova lista com os múltiplos de 3:\n",
        "lista = [97, 80, 94, 88, 80, 1, 16, 53, 62, 32, 24, 99]\n",
        "\n",
        "def m3(list):\n",
        "  multi_3 = []\n",
        "  for a in list:\n",
        "    if a % 3 == 0:\n",
        "      multi_3.append(a)\n",
        "  return multi_3\n",
        "\n",
        "m3(lista)"
      ],
      "metadata": {
        "colab": {
          "base_uri": "https://localhost:8080/"
        },
        "id": "bDgqnCtpNgP8",
        "outputId": "cf42e65c-0775-4dc7-b2fb-232623399034"
      },
      "execution_count": null,
      "outputs": [
        {
          "output_type": "execute_result",
          "data": {
            "text/plain": [
              "[24, 99]"
            ]
          },
          "metadata": {},
          "execution_count": 29
        }
      ]
    },
    {
      "cell_type": "code",
      "source": [
        "#Crie a função que leia a lista abaixo e retorne uma nova lista com os múltiplos de 3. Usando lambda\n",
        "\n",
        "lista = [97, 80, 94, 88, 80, 1, 16, 53, 62, 32, 24, 99]\n",
        "\n",
        "m3 = list((filter(lambda x:(x % 3 == 0), lista))) #função filter retorna o numero que resultou como true em boleano, me mostrando o numero certo\n",
        "m3"
      ],
      "metadata": {
        "colab": {
          "base_uri": "https://localhost:8080/"
        },
        "id": "VN4I6Jn7rW8f",
        "outputId": "00dd58a1-9e18-424b-8abf-26c6f80b32ca"
      },
      "execution_count": null,
      "outputs": [
        {
          "output_type": "execute_result",
          "data": {
            "text/plain": [
              "[24, 99]"
            ]
          },
          "metadata": {},
          "execution_count": 34
        }
      ]
    },
    {
      "cell_type": "code",
      "source": [
        "# Você foi contratado(a) como cientista de dados de uma associação de skate. Para analisar as notas recebidas de skatistas em algumas competições ao longo do ano, você precisa criar um código que calcula a pontuação dos(as) atletas. Para isso, o seu código deve receber 5 notas digitadas pelas pessoas juradas.\n",
        "#Para calcular a pontuação de um(a) skatista, você precisa eliminar a maior e a menor pontuação dentre as 5 notas e tirar a média das 3 notas que sobraram. Retorne a média para apresentar o texto:\n",
        "#\"Nota da manobra: [media]\"\n",
        "\n",
        "notas = []\n",
        "for a in range(5):\n",
        "  n = int(input(f'Digite a nota {a+1}: '))\n",
        "  notas.append(n)\n",
        "print(notas)\n",
        "def calculo(lista):\n",
        "  lista.remove(max(notas))\n",
        "  lista.remove(min(notas))\n",
        "  media = sum(lista) / len(lista)\n",
        "  nota = f'A nota da manobra é: {round(media, 2)}'\n",
        "\n",
        "  return nota\n",
        "\n",
        "calculo(notas)\n",
        "\n",
        "\n"
      ],
      "metadata": {
        "colab": {
          "base_uri": "https://localhost:8080/",
          "height": 140
        },
        "id": "u6yOzKIYte09",
        "outputId": "4abdf022-caab-47af-8da5-4ff17c00be45"
      },
      "execution_count": null,
      "outputs": [
        {
          "output_type": "stream",
          "name": "stdout",
          "text": [
            "Digite a nota 1: 7\n",
            "Digite a nota 2: 5\n",
            "Digite a nota 3: 10\n",
            "Digite a nota 4: 1\n",
            "Digite a nota 5: 5\n",
            "[7, 5, 10, 1, 5]\n"
          ]
        },
        {
          "output_type": "execute_result",
          "data": {
            "text/plain": [
              "'A nota da manobra é: 5.67'"
            ],
            "application/vnd.google.colaboratory.intrinsic+json": {
              "type": "string"
            }
          },
          "metadata": {},
          "execution_count": 48
        }
      ]
    },
    {
      "cell_type": "code",
      "source": [
        "#Para atender a uma demanda de uma instituição de ensino para a análise do desempenho de seus(suas) estudantes, você precisa criar uma função que receba uma lista de 4 notas e retorne:\n",
        "#maior nota\n",
        "#menor nota\n",
        "#média\n",
        "#situação (Aprovado(a) ou Reprovado(a))\n",
        "\n",
        "def boletim(lista):\n",
        "  if sum(lista) / len(lista) >= 7:\n",
        "    situacao = 'APROVADO'\n",
        "  else:\n",
        "    situacao = 'REPROVADO'\n",
        "\n",
        "  return f'O(a) estudante obteve uma média de {sum(lista) / len(lista)}, com a sua maior nota de {max(lista)} pontos e a menor nota de {min(lista)} pontos e foi {situacao}'\n",
        "\n",
        "notas = [8, 9, 2, 5]\n",
        "boletim(notas)\n"
      ],
      "metadata": {
        "colab": {
          "base_uri": "https://localhost:8080/",
          "height": 35
        },
        "id": "qKLHP-k5s6mw",
        "outputId": "4bfaac02-a98a-4857-d4e8-a0a70a20165a"
      },
      "execution_count": null,
      "outputs": [
        {
          "output_type": "execute_result",
          "data": {
            "text/plain": [
              "'O(a) estudante obteve uma média de 6.0, com a sua maior nota de 9 pontos e a menor nota de 2 pontos e foi REPROVADO'"
            ],
            "application/vnd.google.colaboratory.intrinsic+json": {
              "type": "string"
            }
          },
          "metadata": {},
          "execution_count": 2
        }
      ]
    },
    {
      "cell_type": "code",
      "source": [
        "#Você recebeu uma demanda para tratar 2 listas com os nomes e sobrenomes de cada estudante concatenando-as para apresentar seus nomes completos na forma Nome Sobrenome. As listas são:\n",
        "\n",
        "nomes = [\"joão\", \"MaRia\", \"JOSÉ\"]\n",
        "sobrenomes = [\"SILVA\", \"souza\", \"Tavares\"]\n",
        "\n",
        "nome_completo = list(map(lambda nome, sobrenome:(f'Nome completo: {nome.capitalize()} {sobrenome.capitalize()}'), nomes, sobrenomes)) #usei o capitalize para deixar as palavras apenas com a primeira letra maiuscula.\n",
        "\n",
        "for a in nome_completo:\n",
        "  print(a)\n",
        "\n",
        "\n"
      ],
      "metadata": {
        "colab": {
          "base_uri": "https://localhost:8080/"
        },
        "id": "A4P257-bw3YG",
        "outputId": "52395126-62dc-462b-fd8a-f1230da48bb0"
      },
      "execution_count": null,
      "outputs": [
        {
          "output_type": "stream",
          "name": "stdout",
          "text": [
            "Nome completo: João Silva\n",
            "Nome completo: Maria Souza\n",
            "Nome completo: José Tavares\n"
          ]
        }
      ]
    },
    {
      "cell_type": "code",
      "source": [
        "#\n",
        "def calcula_pontos(gm, gs):\n",
        "  pontos = 0\n",
        "  for a in range(len(gm)):\n",
        "    if gm[a] > gs[a]:\n",
        "      pontos += 3\n",
        "    if gm[a] == gs[a]:\n",
        "      pontos += 1\n",
        "  aproveitamento = round((pontos / (len(gm)*3)) * 100, 2)\n",
        "\n",
        "  return f'A pontuação do time foi de {pontos} pontos e seu aproveitamento foi de {aproveitamento}%'\n",
        "\n",
        "\n",
        "gols_marcados = [2, 1, 3, 1, 0]\n",
        "gols_sofridos = [1, 2, 2, 1, 3]\n",
        "\n",
        "calcula_pontos(gols_marcados, gols_sofridos)"
      ],
      "metadata": {
        "colab": {
          "base_uri": "https://localhost:8080/",
          "height": 35
        },
        "id": "SmW_UDyM7JQA",
        "outputId": "2414f2b6-5c03-402a-c202-e2afb0fe7e2a"
      },
      "execution_count": null,
      "outputs": [
        {
          "output_type": "execute_result",
          "data": {
            "text/plain": [
              "'A pontuação do time foi de 7 pontos e seu aproveitamento foi de 46.67%'"
            ],
            "application/vnd.google.colaboratory.intrinsic+json": {
              "type": "string"
            }
          },
          "metadata": {},
          "execution_count": 6
        }
      ]
    },
    {
      "cell_type": "code",
      "source": [
        "frase = input('Digite uma frase: ')\n",
        "frase = frase.replace(',',' ').replace('.',' ').replace('!',' ').replace('?',' ').split()\n",
        "print(frase)\n",
        "lista = list(filter(lambda palavra: len(palavra) >= 5, frase))\n",
        "lista\n"
      ],
      "metadata": {
        "colab": {
          "base_uri": "https://localhost:8080/"
        },
        "id": "472fyCkIaSsV",
        "outputId": "281d54a5-828e-42a5-91b7-684a89bda6d0"
      },
      "execution_count": null,
      "outputs": [
        {
          "output_type": "stream",
          "name": "stdout",
          "text": [
            "Digite uma frase: Aprender Python aqui na Alura é muito bom\n",
            "['Aprender', 'Python', 'aqui', 'na', 'Alura', 'é', 'muito', 'bom']\n"
          ]
        },
        {
          "output_type": "execute_result",
          "data": {
            "text/plain": [
              "['Aprender', 'Python', 'Alura', 'muito']"
            ]
          },
          "metadata": {},
          "execution_count": 14
        }
      ]
    }
  ]
}